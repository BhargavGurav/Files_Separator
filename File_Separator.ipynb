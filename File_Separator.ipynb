{
 "cells": [
  {
   "cell_type": "markdown",
   "id": "49d59187",
   "metadata": {},
   "source": [
    "# Files Separator using Python"
   ]
  },
  {
   "cell_type": "code",
   "execution_count": 1,
   "id": "4e6e3a41",
   "metadata": {},
   "outputs": [],
   "source": [
    "import os"
   ]
  },
  {
   "cell_type": "markdown",
   "id": "c30e481e",
   "metadata": {},
   "source": [
    "Getting path of Folder to work on"
   ]
  },
  {
   "cell_type": "code",
   "execution_count": 2,
   "id": "c06d6394",
   "metadata": {},
   "outputs": [
    {
     "name": "stdout",
     "output_type": "stream",
     "text": [
      "Enter path of folder in which files are present : F:\\coding_programmes\\PyCharm Community Edition 2021.2.3\\Random_files\n"
     ]
    }
   ],
   "source": [
    "path = input('Enter path of folder in which files are present : ')"
   ]
  },
  {
   "cell_type": "code",
   "execution_count": 3,
   "id": "5942293a",
   "metadata": {},
   "outputs": [
    {
     "data": {
      "text/plain": [
       "'F:\\\\coding_programmes\\\\PyCharm Community Edition 2021.2.3\\\\Random_files'"
      ]
     },
     "execution_count": 3,
     "metadata": {},
     "output_type": "execute_result"
    }
   ],
   "source": [
    "path"
   ]
  },
  {
   "cell_type": "markdown",
   "id": "f951a20b",
   "metadata": {},
   "source": [
    "# Chanding directory to desired path given"
   ]
  },
  {
   "cell_type": "code",
   "execution_count": 4,
   "id": "01e61dcf",
   "metadata": {},
   "outputs": [],
   "source": [
    "os.chdir(path)"
   ]
  },
  {
   "cell_type": "code",
   "execution_count": 5,
   "id": "9bc5ee33",
   "metadata": {},
   "outputs": [
    {
     "data": {
      "text/plain": [
       "'F:\\\\coding_programmes\\\\PyCharm Community Edition 2021.2.3\\\\Random_files'"
      ]
     },
     "execution_count": 5,
     "metadata": {},
     "output_type": "execute_result"
    }
   ],
   "source": [
    "os.getcwd()"
   ]
  },
  {
   "cell_type": "markdown",
   "id": "e8922b33",
   "metadata": {},
   "source": [
    "# Making list of files present in given folder"
   ]
  },
  {
   "cell_type": "code",
   "execution_count": 6,
   "id": "84837146",
   "metadata": {},
   "outputs": [],
   "source": [
    "files_list = os.listdir()"
   ]
  },
  {
   "cell_type": "code",
   "execution_count": 7,
   "id": "2a4b29f4",
   "metadata": {},
   "outputs": [
    {
     "data": {
      "text/plain": [
       "['abc.bat',\n",
       " 'abc.c',\n",
       " 'abc.cpp',\n",
       " 'abc.csv',\n",
       " 'abc.html',\n",
       " 'abc.java',\n",
       " 'abc.jifi',\n",
       " 'abc.jpeg',\n",
       " 'abc.png',\n",
       " 'abc.ppt',\n",
       " 'abc.py',\n",
       " 'abc.r',\n",
       " 'abc.txt',\n",
       " 'abcxls',\n",
       " 'pqr.bat',\n",
       " 'pqr.c',\n",
       " 'pqr.cpp',\n",
       " 'pqr.csv',\n",
       " 'pqr.html',\n",
       " 'pqr.java',\n",
       " 'pqr.jifi',\n",
       " 'pqr.jpeg',\n",
       " 'pqr.png',\n",
       " 'pqr.ppt',\n",
       " 'pqr.py',\n",
       " 'pqr.r',\n",
       " 'pqr.txt',\n",
       " 'pqrxls',\n",
       " 'xyz.bat',\n",
       " 'xyz.c',\n",
       " 'xyz.cpp',\n",
       " 'xyz.csv',\n",
       " 'xyz.html',\n",
       " 'xyz.java',\n",
       " 'xyz.jifi',\n",
       " 'xyz.jpeg',\n",
       " 'xyz.png',\n",
       " 'xyz.ppt',\n",
       " 'xyz.py',\n",
       " 'xyz.r',\n",
       " 'xyz.txt',\n",
       " 'xyzxls']"
      ]
     },
     "execution_count": 7,
     "metadata": {},
     "output_type": "execute_result"
    }
   ],
   "source": [
    "files_list"
   ]
  },
  {
   "cell_type": "markdown",
   "id": "2b7a30e5",
   "metadata": {},
   "source": [
    "# Making List of Extensions"
   ]
  },
  {
   "cell_type": "code",
   "execution_count": 20,
   "id": "9b1c7bfc",
   "metadata": {},
   "outputs": [],
   "source": [
    "extensions = []\n",
    "for i in files_list:\n",
    "    extension = i.split('.')[-1]      # suppose i='abc.txt' so i.split('.') = ['abc', 'txt'] and hence extension can be accessed as i.split('.')[-1] \n",
    "    extensions.append(extension)"
   ]
  },
  {
   "cell_type": "code",
   "execution_count": 21,
   "id": "8ecf8c89",
   "metadata": {},
   "outputs": [
    {
     "data": {
      "text/plain": [
       "['bat',\n",
       " 'c',\n",
       " 'cpp',\n",
       " 'csv',\n",
       " 'html',\n",
       " 'java',\n",
       " 'jifi',\n",
       " 'jpeg',\n",
       " 'png',\n",
       " 'ppt',\n",
       " 'py',\n",
       " 'r',\n",
       " 'txt',\n",
       " 'abcxls',\n",
       " 'bat',\n",
       " 'c',\n",
       " 'cpp',\n",
       " 'csv',\n",
       " 'html',\n",
       " 'java',\n",
       " 'jifi',\n",
       " 'jpeg',\n",
       " 'png',\n",
       " 'ppt',\n",
       " 'py',\n",
       " 'r',\n",
       " 'txt',\n",
       " 'pqrxls',\n",
       " 'bat',\n",
       " 'c',\n",
       " 'cpp',\n",
       " 'csv',\n",
       " 'html',\n",
       " 'java',\n",
       " 'jifi',\n",
       " 'jpeg',\n",
       " 'png',\n",
       " 'ppt',\n",
       " 'py',\n",
       " 'r',\n",
       " 'txt',\n",
       " 'xyzxls']"
      ]
     },
     "execution_count": 21,
     "metadata": {},
     "output_type": "execute_result"
    }
   ],
   "source": [
    "extensions"
   ]
  },
  {
   "cell_type": "markdown",
   "id": "599d8d40",
   "metadata": {},
   "source": [
    "# Making folders for different extensions"
   ]
  },
  {
   "cell_type": "code",
   "execution_count": 23,
   "id": "8f6c33a9",
   "metadata": {},
   "outputs": [],
   "source": [
    "extensions_ = set(extensions)       # removing duplicates\n",
    "for i in extensions_:\n",
    "    os.mkdir(f'{i}')                # make folders of name extensions from set\n"
   ]
  },
  {
   "cell_type": "code",
   "execution_count": 24,
   "id": "f451dc83",
   "metadata": {},
   "outputs": [
    {
     "data": {
      "text/plain": [
       "['bat',\n",
       " 'c',\n",
       " 'cpp',\n",
       " 'csv',\n",
       " 'html',\n",
       " 'java',\n",
       " 'jifi',\n",
       " 'jpeg',\n",
       " 'png',\n",
       " 'ppt',\n",
       " 'py',\n",
       " 'r',\n",
       " 'txt',\n",
       " 'abcxls',\n",
       " 'bat',\n",
       " 'c',\n",
       " 'cpp',\n",
       " 'csv',\n",
       " 'html',\n",
       " 'java',\n",
       " 'jifi',\n",
       " 'jpeg',\n",
       " 'png',\n",
       " 'ppt',\n",
       " 'py',\n",
       " 'r',\n",
       " 'txt',\n",
       " 'pqrxls',\n",
       " 'bat',\n",
       " 'c',\n",
       " 'cpp',\n",
       " 'csv',\n",
       " 'html',\n",
       " 'java',\n",
       " 'jifi',\n",
       " 'jpeg',\n",
       " 'png',\n",
       " 'ppt',\n",
       " 'py',\n",
       " 'r',\n",
       " 'txt',\n",
       " 'xyzxls']"
      ]
     },
     "execution_count": 24,
     "metadata": {},
     "output_type": "execute_result"
    }
   ],
   "source": [
    "extensions"
   ]
  },
  {
   "cell_type": "markdown",
   "id": "cf3d54d2",
   "metadata": {},
   "source": [
    "# Moving files to target folders"
   ]
  },
  {
   "cell_type": "code",
   "execution_count": 28,
   "id": "1aaf0fa8",
   "metadata": {},
   "outputs": [],
   "source": [
    "import shutil\n",
    "for i in files_list:\n",
    "    extension_of_i = i.split('.')[-1]\n",
    "    shutil.move(f'{i}' , f'{extension_of_i}')         # moving files to target folder of same name\n"
   ]
  },
  {
   "cell_type": "code",
   "execution_count": null,
   "id": "edcf4f19",
   "metadata": {},
   "outputs": [],
   "source": []
  }
 ],
 "metadata": {
  "kernelspec": {
   "display_name": "Python 3 (ipykernel)",
   "language": "python",
   "name": "python3"
  },
  "language_info": {
   "codemirror_mode": {
    "name": "ipython",
    "version": 3
   },
   "file_extension": ".py",
   "mimetype": "text/x-python",
   "name": "python",
   "nbconvert_exporter": "python",
   "pygments_lexer": "ipython3",
   "version": "3.10.3"
  }
 },
 "nbformat": 4,
 "nbformat_minor": 5
}
